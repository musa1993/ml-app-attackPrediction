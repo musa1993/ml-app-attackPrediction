{
 "cells": [
  {
   "cell_type": "markdown",
   "id": "3387c1ed",
   "metadata": {},
   "source": [
    "# MODEL BASELINE\n",
    "## In this notebook we will be building a logistic regression model\n",
    "*  We will be using the logistic model as a baseline model to checkmate the performance of other model we will be using in getting at our final model.\n",
    "> FLOW\n",
    ">>\n",
    ">> Having know that our data is still imbalance despite the feature engineering, to ensure that this those not affect the performance of our model our train data will be splitted into train and validation set using ```stratifiedshufflesplit``` to ensure there are equal representation of each of the class to be predicted in our train and validation set.\n",
    ">>\n",
    ">> The train set is further augmented for class balance using the ```randomoversampler``` this is to ensure that our model is not just craming the train set and to avoid over generalization\n",
    ">>\n",
    ">> After this we train our model on the train set and evaluate it on the validation set using confusion matrix\n",
    ">>\n",
    ">> We are also interested in understanding the contribution of each features in our model\n",
    ">>\n",
    "> **Note this workflow is applicable to all the other models**"
   ]
  },
  {
   "cell_type": "code",
   "execution_count": 269,
   "id": "b44c523c",
   "metadata": {},
   "outputs": [],
   "source": [
    "# Importing necessary libraries\n",
    "import pandas as pd\n",
    "import numpy as np\n",
    "import matplotlib.pyplot as plt\n",
    "import seaborn as sns\n",
    "from sklearn.preprocessing import LabelEncoder\n",
    "from sklearn.model_selection import StratifiedShuffleSplit\n",
    "from sklearn.preprocessing import LabelEncoder\n",
    "from imblearn.over_sampling import RandomOverSampler \n",
    "from sklearn.ensemble import RandomForestClassifier\n",
    "from sklearn.metrics import classification_report,accuracy_score,confusion_matrix\n",
    "import warnings\n",
    "warnings.filterwarnings(\"ignore\")\n",
    "plt.style.use(\"seaborn-dark\")"
   ]
  },
  {
   "cell_type": "code",
   "execution_count": 270,
   "id": "038aa0ae",
   "metadata": {},
   "outputs": [],
   "source": [
    "df = pd.read_csv(r\"F:\\my awesome streamlit front end\\subAfricaDf.csv\")"
   ]
  },
  {
   "cell_type": "code",
   "execution_count": 271,
   "id": "4b94f252",
   "metadata": {},
   "outputs": [
    {
     "data": {
      "text/html": [
       "<div>\n",
       "<style scoped>\n",
       "    .dataframe tbody tr th:only-of-type {\n",
       "        vertical-align: middle;\n",
       "    }\n",
       "\n",
       "    .dataframe tbody tr th {\n",
       "        vertical-align: top;\n",
       "    }\n",
       "\n",
       "    .dataframe thead th {\n",
       "        text-align: right;\n",
       "    }\n",
       "</style>\n",
       "<table border=\"1\" class=\"dataframe\">\n",
       "  <thead>\n",
       "    <tr style=\"text-align: right;\">\n",
       "      <th></th>\n",
       "      <th>Year</th>\n",
       "      <th>Month</th>\n",
       "      <th>Day</th>\n",
       "      <th>Country</th>\n",
       "      <th>State</th>\n",
       "      <th>City</th>\n",
       "      <th>Region</th>\n",
       "      <th>Region_name</th>\n",
       "      <th>duration_of_incident</th>\n",
       "      <th>AttackType</th>\n",
       "      <th>...</th>\n",
       "      <th>Summary</th>\n",
       "      <th>Group</th>\n",
       "      <th>Latitude</th>\n",
       "      <th>Longitude</th>\n",
       "      <th>Target_type</th>\n",
       "      <th>Weapon_type</th>\n",
       "      <th>sub_weapon_type</th>\n",
       "      <th>Suicide</th>\n",
       "      <th>Casualities</th>\n",
       "      <th>Success</th>\n",
       "    </tr>\n",
       "  </thead>\n",
       "  <tbody>\n",
       "    <tr>\n",
       "      <th>0</th>\n",
       "      <td>1970</td>\n",
       "      <td>1</td>\n",
       "      <td>11</td>\n",
       "      <td>Ethiopia</td>\n",
       "      <td>Unknown</td>\n",
       "      <td>Unknown</td>\n",
       "      <td>11</td>\n",
       "      <td>Sub-Saharan Africa</td>\n",
       "      <td>0</td>\n",
       "      <td>Unknown</td>\n",
       "      <td>...</td>\n",
       "      <td>NaN</td>\n",
       "      <td>Eritrean Liberation Front</td>\n",
       "      <td>NaN</td>\n",
       "      <td>NaN</td>\n",
       "      <td>Military</td>\n",
       "      <td>Unknown</td>\n",
       "      <td>NaN</td>\n",
       "      <td>0</td>\n",
       "      <td>1.0</td>\n",
       "      <td>1</td>\n",
       "    </tr>\n",
       "    <tr>\n",
       "      <th>1</th>\n",
       "      <td>1970</td>\n",
       "      <td>3</td>\n",
       "      <td>14</td>\n",
       "      <td>Ethiopia</td>\n",
       "      <td>Unknown</td>\n",
       "      <td>Unknown</td>\n",
       "      <td>11</td>\n",
       "      <td>Sub-Saharan Africa</td>\n",
       "      <td>1</td>\n",
       "      <td>Hostage Taking (Kidnapping)</td>\n",
       "      <td>...</td>\n",
       "      <td>NaN</td>\n",
       "      <td>Eritrean Liberation Front</td>\n",
       "      <td>NaN</td>\n",
       "      <td>NaN</td>\n",
       "      <td>Journalists &amp; Media</td>\n",
       "      <td>Unknown</td>\n",
       "      <td>NaN</td>\n",
       "      <td>0</td>\n",
       "      <td>0.0</td>\n",
       "      <td>1</td>\n",
       "    </tr>\n",
       "    <tr>\n",
       "      <th>2</th>\n",
       "      <td>1970</td>\n",
       "      <td>4</td>\n",
       "      <td>0</td>\n",
       "      <td>Ethiopia</td>\n",
       "      <td>Unknown</td>\n",
       "      <td>Unknown</td>\n",
       "      <td>11</td>\n",
       "      <td>Sub-Saharan Africa</td>\n",
       "      <td>1</td>\n",
       "      <td>Hostage Taking (Kidnapping)</td>\n",
       "      <td>...</td>\n",
       "      <td>NaN</td>\n",
       "      <td>Eritrean Liberation Front</td>\n",
       "      <td>NaN</td>\n",
       "      <td>NaN</td>\n",
       "      <td>Government (Diplomatic)</td>\n",
       "      <td>Unknown</td>\n",
       "      <td>NaN</td>\n",
       "      <td>0</td>\n",
       "      <td>0.0</td>\n",
       "      <td>1</td>\n",
       "    </tr>\n",
       "    <tr>\n",
       "      <th>3</th>\n",
       "      <td>1971</td>\n",
       "      <td>1</td>\n",
       "      <td>15</td>\n",
       "      <td>Zambia</td>\n",
       "      <td>Unknown</td>\n",
       "      <td>Unknown</td>\n",
       "      <td>11</td>\n",
       "      <td>Sub-Saharan Africa</td>\n",
       "      <td>0</td>\n",
       "      <td>Hostage Taking (Kidnapping)</td>\n",
       "      <td>...</td>\n",
       "      <td>NaN</td>\n",
       "      <td>Revolutionary Committee of Mozambique (COREMO)</td>\n",
       "      <td>NaN</td>\n",
       "      <td>NaN</td>\n",
       "      <td>Government (General)</td>\n",
       "      <td>Unknown</td>\n",
       "      <td>NaN</td>\n",
       "      <td>0</td>\n",
       "      <td>1.0</td>\n",
       "      <td>1</td>\n",
       "    </tr>\n",
       "    <tr>\n",
       "      <th>4</th>\n",
       "      <td>1971</td>\n",
       "      <td>1</td>\n",
       "      <td>22</td>\n",
       "      <td>Ethiopia</td>\n",
       "      <td>Amhara</td>\n",
       "      <td>Bahar Dar</td>\n",
       "      <td>11</td>\n",
       "      <td>Sub-Saharan Africa</td>\n",
       "      <td>0</td>\n",
       "      <td>Hijacking</td>\n",
       "      <td>...</td>\n",
       "      <td>NaN</td>\n",
       "      <td>Eritrean Liberation Front</td>\n",
       "      <td>11.583513</td>\n",
       "      <td>37.397019</td>\n",
       "      <td>Airports &amp; Aircraft</td>\n",
       "      <td>Unknown</td>\n",
       "      <td>NaN</td>\n",
       "      <td>0</td>\n",
       "      <td>0.0</td>\n",
       "      <td>1</td>\n",
       "    </tr>\n",
       "  </tbody>\n",
       "</table>\n",
       "<p>5 rows × 23 columns</p>\n",
       "</div>"
      ],
      "text/plain": [
       "   Year  Month  Day   Country    State       City  Region         Region_name  \\\n",
       "0  1970      1   11  Ethiopia  Unknown    Unknown      11  Sub-Saharan Africa   \n",
       "1  1970      3   14  Ethiopia  Unknown    Unknown      11  Sub-Saharan Africa   \n",
       "2  1970      4    0  Ethiopia  Unknown    Unknown      11  Sub-Saharan Africa   \n",
       "3  1971      1   15    Zambia  Unknown    Unknown      11  Sub-Saharan Africa   \n",
       "4  1971      1   22  Ethiopia   Amhara  Bahar Dar      11  Sub-Saharan Africa   \n",
       "\n",
       "   duration_of_incident                   AttackType  ... Summary  \\\n",
       "0                     0                      Unknown  ...     NaN   \n",
       "1                     1  Hostage Taking (Kidnapping)  ...     NaN   \n",
       "2                     1  Hostage Taking (Kidnapping)  ...     NaN   \n",
       "3                     0  Hostage Taking (Kidnapping)  ...     NaN   \n",
       "4                     0                    Hijacking  ...     NaN   \n",
       "\n",
       "                                            Group   Latitude  Longitude  \\\n",
       "0                       Eritrean Liberation Front        NaN        NaN   \n",
       "1                       Eritrean Liberation Front        NaN        NaN   \n",
       "2                       Eritrean Liberation Front        NaN        NaN   \n",
       "3  Revolutionary Committee of Mozambique (COREMO)        NaN        NaN   \n",
       "4                       Eritrean Liberation Front  11.583513  37.397019   \n",
       "\n",
       "               Target_type  Weapon_type  sub_weapon_type Suicide Casualities  \\\n",
       "0                 Military      Unknown              NaN       0         1.0   \n",
       "1      Journalists & Media      Unknown              NaN       0         0.0   \n",
       "2  Government (Diplomatic)      Unknown              NaN       0         0.0   \n",
       "3     Government (General)      Unknown              NaN       0         1.0   \n",
       "4      Airports & Aircraft      Unknown              NaN       0         0.0   \n",
       "\n",
       "  Success  \n",
       "0       1  \n",
       "1       1  \n",
       "2       1  \n",
       "3       1  \n",
       "4       1  \n",
       "\n",
       "[5 rows x 23 columns]"
      ]
     },
     "execution_count": 271,
     "metadata": {},
     "output_type": "execute_result"
    }
   ],
   "source": [
    "df.head()"
   ]
  },
  {
   "cell_type": "code",
   "execution_count": 272,
   "id": "932311ea",
   "metadata": {},
   "outputs": [
    {
     "data": {
      "text/html": [
       "<div>\n",
       "<style scoped>\n",
       "    .dataframe tbody tr th:only-of-type {\n",
       "        vertical-align: middle;\n",
       "    }\n",
       "\n",
       "    .dataframe tbody tr th {\n",
       "        vertical-align: top;\n",
       "    }\n",
       "\n",
       "    .dataframe thead th {\n",
       "        text-align: right;\n",
       "    }\n",
       "</style>\n",
       "<table border=\"1\" class=\"dataframe\">\n",
       "  <thead>\n",
       "    <tr style=\"text-align: right;\">\n",
       "      <th></th>\n",
       "      <th>Country</th>\n",
       "      <th>State</th>\n",
       "      <th>AttackType</th>\n",
       "      <th>Target_type</th>\n",
       "      <th>Group</th>\n",
       "      <th>Weapon_type</th>\n",
       "      <th>Success</th>\n",
       "    </tr>\n",
       "  </thead>\n",
       "  <tbody>\n",
       "    <tr>\n",
       "      <th>0</th>\n",
       "      <td>Ethiopia</td>\n",
       "      <td>Unknown</td>\n",
       "      <td>Unknown</td>\n",
       "      <td>Military</td>\n",
       "      <td>Eritrean Liberation Front</td>\n",
       "      <td>Unknown</td>\n",
       "      <td>1</td>\n",
       "    </tr>\n",
       "    <tr>\n",
       "      <th>1</th>\n",
       "      <td>Ethiopia</td>\n",
       "      <td>Unknown</td>\n",
       "      <td>Hostage Taking (Kidnapping)</td>\n",
       "      <td>Journalists &amp; Media</td>\n",
       "      <td>Eritrean Liberation Front</td>\n",
       "      <td>Unknown</td>\n",
       "      <td>1</td>\n",
       "    </tr>\n",
       "    <tr>\n",
       "      <th>2</th>\n",
       "      <td>Ethiopia</td>\n",
       "      <td>Unknown</td>\n",
       "      <td>Hostage Taking (Kidnapping)</td>\n",
       "      <td>Government (Diplomatic)</td>\n",
       "      <td>Eritrean Liberation Front</td>\n",
       "      <td>Unknown</td>\n",
       "      <td>1</td>\n",
       "    </tr>\n",
       "    <tr>\n",
       "      <th>3</th>\n",
       "      <td>Zambia</td>\n",
       "      <td>Unknown</td>\n",
       "      <td>Hostage Taking (Kidnapping)</td>\n",
       "      <td>Government (General)</td>\n",
       "      <td>Revolutionary Committee of Mozambique (COREMO)</td>\n",
       "      <td>Unknown</td>\n",
       "      <td>1</td>\n",
       "    </tr>\n",
       "    <tr>\n",
       "      <th>4</th>\n",
       "      <td>Ethiopia</td>\n",
       "      <td>Amhara</td>\n",
       "      <td>Hijacking</td>\n",
       "      <td>Airports &amp; Aircraft</td>\n",
       "      <td>Eritrean Liberation Front</td>\n",
       "      <td>Unknown</td>\n",
       "      <td>1</td>\n",
       "    </tr>\n",
       "  </tbody>\n",
       "</table>\n",
       "</div>"
      ],
      "text/plain": [
       "    Country    State                   AttackType              Target_type  \\\n",
       "0  Ethiopia  Unknown                      Unknown                 Military   \n",
       "1  Ethiopia  Unknown  Hostage Taking (Kidnapping)      Journalists & Media   \n",
       "2  Ethiopia  Unknown  Hostage Taking (Kidnapping)  Government (Diplomatic)   \n",
       "3    Zambia  Unknown  Hostage Taking (Kidnapping)     Government (General)   \n",
       "4  Ethiopia   Amhara                    Hijacking      Airports & Aircraft   \n",
       "\n",
       "                                            Group Weapon_type  Success  \n",
       "0                       Eritrean Liberation Front     Unknown        1  \n",
       "1                       Eritrean Liberation Front     Unknown        1  \n",
       "2                       Eritrean Liberation Front     Unknown        1  \n",
       "3  Revolutionary Committee of Mozambique (COREMO)     Unknown        1  \n",
       "4                       Eritrean Liberation Front     Unknown        1  "
      ]
     },
     "execution_count": 272,
     "metadata": {},
     "output_type": "execute_result"
    }
   ],
   "source": [
    "df = df[[\"Country\", \"State\", \"AttackType\", \"Target_type\", \"Group\",\"Weapon_type\",\"Success\"]]\n",
    "df.head()"
   ]
  },
  {
   "cell_type": "code",
   "execution_count": 273,
   "id": "abe3c572",
   "metadata": {},
   "outputs": [
    {
     "name": "stdout",
     "output_type": "stream",
     "text": [
      "count of successful attacks and not successful attacks \n",
      " 1    16277\n",
      "0     1273\n",
      "Name: Success, dtype: int64\n",
      "\n"
     ]
    },
    {
     "data": {
      "image/png": "[encoded data removed]",
      "text/plain": [
       "<Figure size 432x288 with 1 Axes>"
      ]
     },
     "metadata": {},
     "output_type": "display_data"
    }
   ],
   "source": [
    "# Checking for class balance\n",
    "plt.pie(df[\"Success\"].value_counts(normalize=True), labels=[ \"not successful\", \"successful\"], \n",
    "        shadow=True, autopct=\"%1.2f%%\")\n",
    "plt.title(\"Proportion of successful attacks buy and not successful attacks\", size=15, weight=\"bold\");\n",
    "plt.legend(loc=\"lower left\");\n",
    "print(\"count of successful attacks and not successful attacks \\n\", df[\"Success\"].value_counts(), end=\"\\n\\n\")"
   ]
  },
  {
   "cell_type": "code",
   "execution_count": 274,
   "id": "9f966b42",
   "metadata": {},
   "outputs": [
    {
     "data": {
      "text/plain": [
       "Country        0.00\n",
       "State          0.05\n",
       "AttackType     0.00\n",
       "Target_type    0.00\n",
       "Group          0.00\n",
       "Weapon_type    0.00\n",
       "Success        0.00\n",
       "dtype: float64"
      ]
     },
     "execution_count": 274,
     "metadata": {},
     "output_type": "execute_result"
    }
   ],
   "source": [
    "np.round((df.isna().sum()/df.shape[0])*100, 2) # Representing the missing values as percentage of the overall number of items in the columns"
   ]
  },
  {
   "cell_type": "code",
   "execution_count": 275,
   "id": "721bfc47",
   "metadata": {},
   "outputs": [
    {
     "data": {
      "text/plain": [
       "Country        0\n",
       "State          0\n",
       "AttackType     0\n",
       "Target_type    0\n",
       "Group          0\n",
       "Weapon_type    0\n",
       "Success        0\n",
       "dtype: int64"
      ]
     },
     "execution_count": 275,
     "metadata": {},
     "output_type": "execute_result"
    }
   ],
   "source": [
    "df = df.dropna()\n",
    "df.isnull().sum()"
   ]
  },
  {
   "cell_type": "code",
   "execution_count": 276,
   "id": "6ea24aaf",
   "metadata": {},
   "outputs": [
    {
     "data": {
      "text/plain": [
       "Somalia                             4142\n",
       "Nigeria                             3907\n",
       "South Africa                        2016\n",
       "Sudan                                967\n",
       "Democratic Republic of the Congo     775\n",
       "Kenya                                683\n",
       "Burundi                              613\n",
       "Mali                                 566\n",
       "Angola                               499\n",
       "Uganda                               394\n",
       "Mozambique                           363\n",
       "Cameroon                             332\n",
       "Central African Republic             283\n",
       "South Sudan                          225\n",
       "Ethiopia                             190\n",
       "Rwanda                               159\n",
       "Namibia                              151\n",
       "Niger                                146\n",
       "Senegal                              118\n",
       "Zimbabwe                             101\n",
       "Sierra Leone                         101\n",
       "Chad                                  91\n",
       "Rhodesia                              83\n",
       "Ivory Coast                           74\n",
       "Zambia                                62\n",
       "Tanzania                              59\n",
       "Burkina Faso                          52\n",
       "Zaire                                 50\n",
       "Togo                                  48\n",
       "Republic of the Congo                 36\n",
       "Liberia                               34\n",
       "Lesotho                               29\n",
       "Madagascar                            27\n",
       "Guinea                                25\n",
       "Djibouti                              22\n",
       "Ghana                                 19\n",
       "Mauritania                            18\n",
       "Swaziland                             16\n",
       "Botswana                              10\n",
       "Eritrea                               10\n",
       "Guinea-Bissau                          9\n",
       "Gabon                                  8\n",
       "Benin                                  8\n",
       "Malawi                                 5\n",
       "Comoros                                5\n",
       "People's Republic of the Congo         4\n",
       "Gambia                                 3\n",
       "Seychelles                             2\n",
       "Equatorial Guinea                      2\n",
       "Name: Country, dtype: int64"
      ]
     },
     "execution_count": 276,
     "metadata": {},
     "output_type": "execute_result"
    }
   ],
   "source": [
    "df['Country'].value_counts()"
   ]
  },
  {
   "cell_type": "code",
   "execution_count": 277,
   "id": "49629796",
   "metadata": {},
   "outputs": [],
   "source": [
    "def shorten_categories(categories, cutoff):\n",
    "    categorical_map = {}\n",
    "    for i in range(len(categories)):\n",
    "        if categories.values[i] >= cutoff:\n",
    "            categorical_map[categories.index[i]] = categories.index[i]\n",
    "        else:\n",
    "            categorical_map[categories.index[i]] = 'Other'\n",
    "    return categorical_map"
   ]
  },
  {
   "cell_type": "code",
   "execution_count": 278,
   "id": "676c2dce",
   "metadata": {},
   "outputs": [
    {
     "data": {
      "text/plain": [
       "Somalia                             4142\n",
       "Nigeria                             3907\n",
       "South Africa                        2016\n",
       "Sudan                                967\n",
       "Democratic Republic of the Congo     775\n",
       "Kenya                                683\n",
       "Burundi                              613\n",
       "Mali                                 566\n",
       "Angola                               499\n",
       "Uganda                               394\n",
       "Mozambique                           363\n",
       "Other                                340\n",
       "Cameroon                             332\n",
       "Central African Republic             283\n",
       "South Sudan                          225\n",
       "Ethiopia                             190\n",
       "Rwanda                               159\n",
       "Namibia                              151\n",
       "Niger                                146\n",
       "Senegal                              118\n",
       "Zimbabwe                             101\n",
       "Sierra Leone                         101\n",
       "Chad                                  91\n",
       "Rhodesia                              83\n",
       "Ivory Coast                           74\n",
       "Zambia                                62\n",
       "Tanzania                              59\n",
       "Burkina Faso                          52\n",
       "Zaire                                 50\n",
       "Name: Country, dtype: int64"
      ]
     },
     "execution_count": 278,
     "metadata": {},
     "output_type": "execute_result"
    }
   ],
   "source": [
    "country_map = shorten_categories(df.Country.value_counts(), 50)\n",
    "df['Country'] = df['Country'].map(country_map)\n",
    "df.Country.value_counts()"
   ]
  },
  {
   "cell_type": "code",
   "execution_count": 279,
   "id": "00561153",
   "metadata": {},
   "outputs": [
    {
     "data": {
      "text/plain": [
       "Banaadir          1613\n",
       "Borno             1423\n",
       "Gauteng            862\n",
       "Lower Shebelle     579\n",
       "Unknown            539\n",
       "                  ... \n",
       "Asmara               1\n",
       "Ali Sabieh           1\n",
       "Cacheu               1\n",
       "Lacs                 1\n",
       "Western Lakes        1\n",
       "Name: State, Length: 464, dtype: int64"
      ]
     },
     "execution_count": 279,
     "metadata": {},
     "output_type": "execute_result"
    }
   ],
   "source": [
    "df.State.value_counts()"
   ]
  },
  {
   "cell_type": "code",
   "execution_count": 280,
   "id": "21a15dcc",
   "metadata": {},
   "outputs": [
    {
     "data": {
      "text/plain": [
       "Other               5653\n",
       "Banaadir            1613\n",
       "Borno               1423\n",
       "Gauteng              862\n",
       "Lower Shebelle       579\n",
       "Unknown              539\n",
       "KwaZulu-Natal        513\n",
       "North Kivu           413\n",
       "Lower Juba           341\n",
       "Bay                  328\n",
       "North Darfur         300\n",
       "Bujumbura Mairie     276\n",
       "Hiiraan              272\n",
       "Extreme-North        255\n",
       "Yobe                 253\n",
       "Gedo                 246\n",
       "Benue                213\n",
       "Northern             212\n",
       "Adamawa              208\n",
       "South Darfur         203\n",
       "Western Cape         195\n",
       "Plateau              188\n",
       "Rivers               184\n",
       "Kaduna               169\n",
       "Delta                168\n",
       "Kano                 154\n",
       "Bari                 142\n",
       "Mudug                139\n",
       "Middle Shebelle      138\n",
       "Orientale            138\n",
       "Eastern Cape         133\n",
       "Kidal                132\n",
       "Central              130\n",
       "Gao                  129\n",
       "Timbuktu             127\n",
       "Galguduud            123\n",
       "Bayelsa              122\n",
       "North Eastern        111\n",
       "Bakool               110\n",
       "Mandera              108\n",
       "Name: State, dtype: int64"
      ]
     },
     "execution_count": 280,
     "metadata": {},
     "output_type": "execute_result"
    }
   ],
   "source": [
    "state_map = shorten_categories(df.State.value_counts(), 100)\n",
    "df['State'] = df['State'].map(state_map)\n",
    "df.State.value_counts()"
   ]
  },
  {
   "cell_type": "code",
   "execution_count": 281,
   "id": "f607d03b",
   "metadata": {},
   "outputs": [
    {
     "data": {
      "text/plain": [
       "array(['Unknown', 'Hostage Taking (Kidnapping)', 'Hijacking',\n",
       "       'Assassination', 'Bombing/Explosion', 'Armed Assault',\n",
       "       'Facility/Infrastructure Attack',\n",
       "       'Hostage Taking (Barricade Incident)', 'Unarmed Assault'],\n",
       "      dtype=object)"
      ]
     },
     "execution_count": 281,
     "metadata": {},
     "output_type": "execute_result"
    }
   ],
   "source": [
    "df.AttackType.unique()"
   ]
  },
  {
   "cell_type": "code",
   "execution_count": 282,
   "id": "d4bce5c8",
   "metadata": {},
   "outputs": [
    {
     "data": {
      "text/plain": [
       "array(['Military', 'Journalists & Media', 'Government (Diplomatic)',\n",
       "       'Government (General)', 'Airports & Aircraft', 'Business',\n",
       "       'Private Citizens & Property', 'Transportation',\n",
       "       'Violent Political Party', 'Educational Institution', 'Police',\n",
       "       'Utilities', 'Religious Figures/Institutions', 'Tourists',\n",
       "       'Unknown', 'NGO', 'Telecommunication', 'Food or Water Supply',\n",
       "       'Maritime', 'Terrorists/Non-State Militia', 'Other'], dtype=object)"
      ]
     },
     "execution_count": 282,
     "metadata": {},
     "output_type": "execute_result"
    }
   ],
   "source": [
    "df.Target_type.unique()"
   ]
  },
  {
   "cell_type": "code",
   "execution_count": 283,
   "id": "2eb03d17",
   "metadata": {},
   "outputs": [
    {
     "data": {
      "text/plain": [
       "Unknown                                     6055\n",
       "Al-Shabaab                                  3288\n",
       "Boko Haram                                  2418\n",
       "African National Congress (South Africa)     606\n",
       "Fulani extremists                            511\n",
       "                                            ... \n",
       "Al-Gama'at al-Islamiyya (IG)                   1\n",
       "National Redemption Front                      1\n",
       "Rally of Democratic Forces (RAFD)              1\n",
       "Tribal Clash                                   1\n",
       "Rastas                                         1\n",
       "Name: Group, Length: 492, dtype: int64"
      ]
     },
     "execution_count": 283,
     "metadata": {},
     "output_type": "execute_result"
    }
   ],
   "source": [
    "df.Group.value_counts()"
   ]
  },
  {
   "cell_type": "code",
   "execution_count": 284,
   "id": "621c5cf8",
   "metadata": {},
   "outputs": [
    {
     "data": {
      "text/plain": [
       "Unknown                                                        6055\n",
       "Al-Shabaab                                                     3288\n",
       "Boko Haram                                                     2418\n",
       "Other                                                          1893\n",
       "African National Congress (South Africa)                        606\n",
       "Fulani extremists                                               511\n",
       "National Union for the Total Independence of Angola (UNITA)     432\n",
       "Lord's Resistance Army (LRA)                                    322\n",
       "Mozambique National Resistance Movement (MNR)                   311\n",
       "Allied Democratic Forces (ADF)                                  216\n",
       "Janjaweed                                                       213\n",
       "Hutu extremists                                                 167\n",
       "Sudan People's Liberation Movement in Opposition (SPLM-IO)      101\n",
       "Democratic Front for the Liberation of Rwanda (FDLR)             99\n",
       "Movement for the Emancipation of the Niger Delta (MEND)          87\n",
       "Muslim extremists                                                80\n",
       "Movement of Democratic Forces of Casamance                       79\n",
       "Al-Qaida in the Islamic Maghreb (AQIM)                           74\n",
       "Anti-Balaka Militia                                              72\n",
       "Mayi Mayi                                                        68\n",
       "Revolutionary United Front (RUF)                                 65\n",
       "South-West Africa People's Organization (SWAPO)                  63\n",
       "Sudan People's Liberation Movement - North                       59\n",
       "Jamaat Nusrat al-Islam wal Muslimin (JNIM)                       59\n",
       "Ansar al-Dine (Mali)                                             54\n",
       "Movement for Oneness and Jihad in West Africa (MUJAO)            50\n",
       "Inkatha Freedom Party (IFP)                                      50\n",
       "Niger Delta Avengers (NDA)                                       50\n",
       "Name: Group, dtype: int64"
      ]
     },
     "execution_count": 284,
     "metadata": {},
     "output_type": "execute_result"
    }
   ],
   "source": [
    "group_map = shorten_categories(df.Group.value_counts(), 50)\n",
    "df['Group'] = df['Group'].map(group_map)\n",
    "df.Group.value_counts()"
   ]
  },
  {
   "cell_type": "code",
   "execution_count": 285,
   "id": "02517cf1",
   "metadata": {},
   "outputs": [
    {
     "data": {
      "text/plain": [
       "array(['Other', 'Unknown',\n",
       "       \"South-West Africa People's Organization (SWAPO)\",\n",
       "       'African National Congress (South Africa)',\n",
       "       'National Union for the Total Independence of Angola (UNITA)',\n",
       "       'Mozambique National Resistance Movement (MNR)',\n",
       "       'Inkatha Freedom Party (IFP)',\n",
       "       'Movement of Democratic Forces of Casamance', 'Hutu extremists',\n",
       "       'Revolutionary United Front (RUF)', \"Lord's Resistance Army (LRA)\",\n",
       "       'Allied Democratic Forces (ADF)', 'Mayi Mayi', 'Fulani extremists',\n",
       "       'Janjaweed',\n",
       "       'Movement for the Emancipation of the Niger Delta (MEND)',\n",
       "       'Democratic Front for the Liberation of Rwanda (FDLR)',\n",
       "       'Muslim extremists', 'Al-Shabaab',\n",
       "       'Al-Qaida in the Islamic Maghreb (AQIM)', 'Boko Haram',\n",
       "       \"Sudan People's Liberation Movement - North\",\n",
       "       'Movement for Oneness and Jihad in West Africa (MUJAO)',\n",
       "       'Ansar al-Dine (Mali)', 'Anti-Balaka Militia',\n",
       "       \"Sudan People's Liberation Movement in Opposition (SPLM-IO)\",\n",
       "       'Niger Delta Avengers (NDA)',\n",
       "       'Jamaat Nusrat al-Islam wal Muslimin (JNIM)'], dtype=object)"
      ]
     },
     "execution_count": 285,
     "metadata": {},
     "output_type": "execute_result"
    }
   ],
   "source": [
    "df.Group.unique()"
   ]
  },
  {
   "cell_type": "code",
   "execution_count": 286,
   "id": "a10337e2",
   "metadata": {},
   "outputs": [
    {
     "data": {
      "text/plain": [
       "Firearms                                                                       7495\n",
       "Explosives                                                                     6318\n",
       "Unknown                                                                        2368\n",
       "Incendiary                                                                      840\n",
       "Melee                                                                           478\n",
       "Other                                                                            19\n",
       "Chemical                                                                         12\n",
       "Sabotage Equipment                                                                7\n",
       "Biological                                                                        3\n",
       "Fake Weapons                                                                      1\n",
       "Vehicle (not to include vehicle-borne explosives, i.e., car or truck bombs)       1\n",
       "Name: Weapon_type, dtype: int64"
      ]
     },
     "execution_count": 286,
     "metadata": {},
     "output_type": "execute_result"
    }
   ],
   "source": [
    "df.Weapon_type.value_counts()"
   ]
  },
  {
   "cell_type": "code",
   "execution_count": 287,
   "id": "f5207280",
   "metadata": {},
   "outputs": [
    {
     "data": {
      "text/plain": [
       "Firearms      7495\n",
       "Explosives    6318\n",
       "Unknown       2368\n",
       "Incendiary     840\n",
       "Melee          478\n",
       "Other           43\n",
       "Name: Weapon_type, dtype: int64"
      ]
     },
     "execution_count": 287,
     "metadata": {},
     "output_type": "execute_result"
    }
   ],
   "source": [
    "weapon_map = shorten_categories(df.Weapon_type.value_counts(), 50)\n",
    "df['Weapon_type'] = df['Weapon_type'].map(weapon_map)\n",
    "df.Weapon_type.value_counts()"
   ]
  },
  {
   "cell_type": "code",
   "execution_count": 288,
   "id": "b7e1ae6d",
   "metadata": {},
   "outputs": [
    {
     "data": {
      "text/plain": [
       "array(['Unknown', 'Explosives', 'Firearms', 'Incendiary', 'Melee',\n",
       "       'Other'], dtype=object)"
      ]
     },
     "execution_count": 288,
     "metadata": {},
     "output_type": "execute_result"
    }
   ],
   "source": [
    "df.Weapon_type.unique()"
   ]
  },
  {
   "cell_type": "code",
   "execution_count": 289,
   "id": "9133a18b",
   "metadata": {},
   "outputs": [],
   "source": [
    "X = df.drop(\"Success\", axis=1)\n",
    "y = df[\"Success\"]"
   ]
  },
  {
   "cell_type": "code",
   "execution_count": 290,
   "id": "20e7f695",
   "metadata": {},
   "outputs": [],
   "source": [
    "cat_cols=['Group','State','Weapon_type','Country','AttackType','Target_type']\n",
    "\n",
    "le=LabelEncoder()\n",
    "\n",
    "for col in cat_cols:\n",
    "    X[col] = le.fit_transform(X[col])"
   ]
  },
  {
   "cell_type": "code",
   "execution_count": 291,
   "id": "2064de56",
   "metadata": {},
   "outputs": [],
   "source": [
    "# Splitting our data into train and validation set, with 80% used for training and 20% for validation\n",
    "sss = StratifiedShuffleSplit(n_splits= 100, test_size=0.2, random_state=2)\n",
    "for train_index, val_index in sss.split(X, y):\n",
    "    X_train, y_train = X.copy().iloc[train_index], y.copy().iloc[train_index]\n",
    "    X_val, y_val = X.copy().iloc[val_index], y.copy().iloc[val_index]"
   ]
  },
  {
   "cell_type": "markdown",
   "id": "a75096b9",
   "metadata": {},
   "source": [
    "### DEALING WITH IMBALANCE\n",
    "* As it has been pointed out earlier that our data is imbalance we train and up scale the class with less count which in the case is class 1 and the approach taken is to scale the train set to 13,000 from 1018"
   ]
  },
  {
   "cell_type": "code",
   "execution_count": 292,
   "id": "cb5d2a24",
   "metadata": {
    "scrolled": true
   },
   "outputs": [
    {
     "name": "stdout",
     "output_type": "stream",
     "text": [
      "Initial state of class before augmenting\n",
      " 1    13015\n",
      "0     1018\n",
      "Name: Success, dtype: int64\n",
      "\n",
      "Final state of class after augmenting\n",
      " 1    13015\n",
      "0    13000\n",
      "Name: Success, dtype: int64\n"
     ]
    }
   ],
   "source": [
    "print(\"Initial state of class before augmenting\\n\", y_train.value_counts(), end=\"\\n\\n\") # Checking the class count of train set before augmentation\n",
    "\n",
    "resampler = RandomOverSampler(sampling_strategy={0:13000, 1:13015}, random_state=2)\n",
    "X_res, y_res = resampler.fit_resample(X_train, y_train)\n",
    "\n",
    "print(\"Final state of class after augmenting\\n\", y_res.value_counts()) # Checking the class count of train set before augmentation"
   ]
  },
  {
   "cell_type": "markdown",
   "id": "37ffb7d3",
   "metadata": {},
   "source": [
    "### BUILDING MODEL\n"
   ]
  },
  {
   "cell_type": "code",
   "execution_count": 293,
   "id": "88ee8216",
   "metadata": {},
   "outputs": [
    {
     "data": {
      "text/plain": [
       "RandomForestClassifier(class_weight='balanced', random_state=2)"
      ]
     },
     "execution_count": 293,
     "metadata": {},
     "output_type": "execute_result"
    }
   ],
   "source": [
    "classifier1=RandomForestClassifier(class_weight=\"balanced\", random_state=2)\n",
    "classifier1.fit(X_res, y_res)"
   ]
  },
  {
   "cell_type": "code",
   "execution_count": 294,
   "id": "4b642480",
   "metadata": {},
   "outputs": [],
   "source": [
    "# Splitting our data into train and validation set, with 80% used for training and 20% for validation\n",
    "sss = StratifiedShuffleSplit(n_splits= 100, test_size=0.2, random_state=2)\n",
    "for train_index, val_index in sss.split(X_res, y_res):\n",
    "    X1_train, y1_train = X_res.copy().iloc[train_index], y_res.copy().iloc[train_index]\n",
    "    X1_val, y1_val = X_res.copy().iloc[val_index], y_res.copy().iloc[val_index]"
   ]
  },
  {
   "cell_type": "markdown",
   "id": "20d19ce4",
   "metadata": {},
   "source": [
    "### MODEL EVALUATION\n",
    "* The model is evaluated using precision, recall, f1 score and accuracy which is as display below\n",
    "* The model is evaluation not only on the validation set but also on the train set this is to check that our model is not overfitting\n",
    "* Also, the performance of our model can also be visualized as shown below"
   ]
  },
  {
   "cell_type": "code",
   "execution_count": 295,
   "id": "7eac39bf",
   "metadata": {},
   "outputs": [
    {
     "name": "stdout",
     "output_type": "stream",
     "text": [
      "              precision    recall  f1-score   support\n",
      "\n",
      "           0       0.18      0.52      0.26       255\n",
      "           1       0.96      0.81      0.88      3254\n",
      "\n",
      "    accuracy                           0.79      3509\n",
      "   macro avg       0.57      0.67      0.57      3509\n",
      "weighted avg       0.90      0.79      0.83      3509\n",
      "\n"
     ]
    }
   ],
   "source": [
    "# Evaluating on the validation set\n",
    "print(classification_report(y_val, classifier1.predict(X_val)))"
   ]
  },
  {
   "cell_type": "code",
   "execution_count": 296,
   "id": "ac32117e",
   "metadata": {},
   "outputs": [
    {
     "name": "stdout",
     "output_type": "stream",
     "text": [
      "              precision    recall  f1-score   support\n",
      "\n",
      "           0       0.31      0.94      0.46      1018\n",
      "           1       0.99      0.83      0.91     13015\n",
      "\n",
      "    accuracy                           0.84     14033\n",
      "   macro avg       0.65      0.89      0.68     14033\n",
      "weighted avg       0.94      0.84      0.87     14033\n",
      "\n"
     ]
    }
   ],
   "source": [
    "# Evaluating on the train set\n",
    "print(classification_report(y_train, classifier1.predict(X_train)))"
   ]
  },
  {
   "cell_type": "code",
   "execution_count": 297,
   "id": "575fc308",
   "metadata": {},
   "outputs": [
    {
     "name": "stdout",
     "output_type": "stream",
     "text": [
      "              precision    recall  f1-score   support\n",
      "\n",
      "           0       0.85      0.95      0.90      2600\n",
      "           1       0.94      0.83      0.88      2603\n",
      "\n",
      "    accuracy                           0.89      5203\n",
      "   macro avg       0.90      0.89      0.89      5203\n",
      "weighted avg       0.90      0.89      0.89      5203\n",
      "\n"
     ]
    }
   ],
   "source": [
    "# Evaluating on the validation set\n",
    "print(classification_report(y1_val, classifier1.predict(X1_val)))"
   ]
  },
  {
   "cell_type": "code",
   "execution_count": 298,
   "id": "fd718959",
   "metadata": {},
   "outputs": [
    {
     "name": "stdout",
     "output_type": "stream",
     "text": [
      "              precision    recall  f1-score   support\n",
      "\n",
      "           0       0.85      0.95      0.90     10400\n",
      "           1       0.94      0.83      0.88     10412\n",
      "\n",
      "    accuracy                           0.89     20812\n",
      "   macro avg       0.90      0.89      0.89     20812\n",
      "weighted avg       0.90      0.89      0.89     20812\n",
      "\n"
     ]
    }
   ],
   "source": [
    "# Evaluating on the train set\n",
    "print(classification_report(y1_train, classifier1.predict(X1_train)))"
   ]
  },
  {
   "cell_type": "code",
   "execution_count": 299,
   "id": "090a8b0a",
   "metadata": {},
   "outputs": [
    {
     "data": {
      "text/html": [
       "<div>\n",
       "<style scoped>\n",
       "    .dataframe tbody tr th:only-of-type {\n",
       "        vertical-align: middle;\n",
       "    }\n",
       "\n",
       "    .dataframe tbody tr th {\n",
       "        vertical-align: top;\n",
       "    }\n",
       "\n",
       "    .dataframe thead th {\n",
       "        text-align: right;\n",
       "    }\n",
       "</style>\n",
       "<table border=\"1\" class=\"dataframe\">\n",
       "  <thead>\n",
       "    <tr style=\"text-align: right;\">\n",
       "      <th></th>\n",
       "      <th>Country</th>\n",
       "      <th>State</th>\n",
       "      <th>AttackType</th>\n",
       "      <th>Target_type</th>\n",
       "      <th>Group</th>\n",
       "      <th>Weapon_type</th>\n",
       "    </tr>\n",
       "  </thead>\n",
       "  <tbody>\n",
       "    <tr>\n",
       "      <th>0</th>\n",
       "      <td>20</td>\n",
       "      <td>32</td>\n",
       "      <td>6</td>\n",
       "      <td>12</td>\n",
       "      <td>2</td>\n",
       "      <td>5</td>\n",
       "    </tr>\n",
       "    <tr>\n",
       "      <th>1</th>\n",
       "      <td>20</td>\n",
       "      <td>23</td>\n",
       "      <td>0</td>\n",
       "      <td>12</td>\n",
       "      <td>2</td>\n",
       "      <td>1</td>\n",
       "    </tr>\n",
       "    <tr>\n",
       "      <th>2</th>\n",
       "      <td>24</td>\n",
       "      <td>32</td>\n",
       "      <td>0</td>\n",
       "      <td>6</td>\n",
       "      <td>27</td>\n",
       "      <td>3</td>\n",
       "    </tr>\n",
       "    <tr>\n",
       "      <th>3</th>\n",
       "      <td>14</td>\n",
       "      <td>7</td>\n",
       "      <td>2</td>\n",
       "      <td>18</td>\n",
       "      <td>6</td>\n",
       "      <td>0</td>\n",
       "    </tr>\n",
       "    <tr>\n",
       "      <th>4</th>\n",
       "      <td>20</td>\n",
       "      <td>17</td>\n",
       "      <td>0</td>\n",
       "      <td>8</td>\n",
       "      <td>2</td>\n",
       "      <td>0</td>\n",
       "    </tr>\n",
       "    <tr>\n",
       "      <th>...</th>\n",
       "      <td>...</td>\n",
       "      <td>...</td>\n",
       "      <td>...</td>\n",
       "      <td>...</td>\n",
       "      <td>...</td>\n",
       "      <td>...</td>\n",
       "    </tr>\n",
       "    <tr>\n",
       "      <th>26010</th>\n",
       "      <td>14</td>\n",
       "      <td>5</td>\n",
       "      <td>1</td>\n",
       "      <td>12</td>\n",
       "      <td>27</td>\n",
       "      <td>1</td>\n",
       "    </tr>\n",
       "    <tr>\n",
       "      <th>26011</th>\n",
       "      <td>14</td>\n",
       "      <td>7</td>\n",
       "      <td>0</td>\n",
       "      <td>12</td>\n",
       "      <td>6</td>\n",
       "      <td>0</td>\n",
       "    </tr>\n",
       "    <tr>\n",
       "      <th>26012</th>\n",
       "      <td>6</td>\n",
       "      <td>32</td>\n",
       "      <td>8</td>\n",
       "      <td>8</td>\n",
       "      <td>22</td>\n",
       "      <td>5</td>\n",
       "    </tr>\n",
       "    <tr>\n",
       "      <th>26013</th>\n",
       "      <td>14</td>\n",
       "      <td>39</td>\n",
       "      <td>2</td>\n",
       "      <td>18</td>\n",
       "      <td>6</td>\n",
       "      <td>0</td>\n",
       "    </tr>\n",
       "    <tr>\n",
       "      <th>26014</th>\n",
       "      <td>21</td>\n",
       "      <td>15</td>\n",
       "      <td>2</td>\n",
       "      <td>1</td>\n",
       "      <td>27</td>\n",
       "      <td>0</td>\n",
       "    </tr>\n",
       "  </tbody>\n",
       "</table>\n",
       "<p>26015 rows × 6 columns</p>\n",
       "</div>"
      ],
      "text/plain": [
       "       Country  State  AttackType  Target_type  Group  Weapon_type\n",
       "0           20     32           6           12      2            5\n",
       "1           20     23           0           12      2            1\n",
       "2           24     32           0            6     27            3\n",
       "3           14      7           2           18      6            0\n",
       "4           20     17           0            8      2            0\n",
       "...        ...    ...         ...          ...    ...          ...\n",
       "26010       14      5           1           12     27            1\n",
       "26011       14      7           0           12      6            0\n",
       "26012        6     32           8            8     22            5\n",
       "26013       14     39           2           18      6            0\n",
       "26014       21     15           2            1     27            0\n",
       "\n",
       "[26015 rows x 6 columns]"
      ]
     },
     "execution_count": 299,
     "metadata": {},
     "output_type": "execute_result"
    }
   ],
   "source": [
    "X_res"
   ]
  },
  {
   "cell_type": "markdown",
   "id": "b287f78b",
   "metadata": {},
   "source": [
    "### ATTACK PREDICTIVE SYSTEM"
   ]
  },
  {
   "cell_type": "code",
   "execution_count": 300,
   "id": "04c378c2",
   "metadata": {},
   "outputs": [],
   "source": [
    "X = [\"Ethiopia\", 'Unknown','Hostage Taking (Kidnapping)','Journalists & Media','Boko Haram','Unknown']\n",
    "X_n = le.fit_transform(X)\n",
    "X_n = np.array(X_n).reshape(1, -1)"
   ]
  },
  {
   "cell_type": "code",
   "execution_count": 301,
   "id": "f100fe7b",
   "metadata": {},
   "outputs": [
    {
     "name": "stdout",
     "output_type": "stream",
     "text": [
      "[1]\n",
      "The attack is successful\n"
     ]
    }
   ],
   "source": [
    "prediction = classifier1.predict(X_n)\n",
    "print(prediction)\n",
    "\n",
    "if (prediction[0] == 0):\n",
    "    print('The attack is not successful')\n",
    "else:\n",
    "    print('The attack is successful')"
   ]
  },
  {
   "cell_type": "code",
   "execution_count": 302,
   "id": "44cea17a",
   "metadata": {},
   "outputs": [],
   "source": [
    "import pickle"
   ]
  },
  {
   "cell_type": "code",
   "execution_count": 303,
   "id": "a92ba79e",
   "metadata": {},
   "outputs": [],
   "source": [
    "dict_filename = 'Modified1_AA_LLC.pkl'\n",
    "data = {\"model\":classifier1 , \"le\":le}\n",
    "with open('Modified1_AA_LLC.pkl', 'wb') as file:\n",
    "    pickle.dump(data, file)"
   ]
  },
  {
   "cell_type": "code",
   "execution_count": 304,
   "id": "3b110919",
   "metadata": {},
   "outputs": [],
   "source": [
    "model = data[\"model\"]"
   ]
  },
  {
   "cell_type": "code",
   "execution_count": 305,
   "id": "566e96e7",
   "metadata": {},
   "outputs": [],
   "source": [
    "X = [\"Ethiopia\", 'Unknown','Hostage Taking (Kidnapping)','Journalists & Media','Boko Haram','Unknown']\n",
    "X_n = le.fit_transform(X)\n",
    "X_n = np.array(X_n).reshape(1, -1)"
   ]
  },
  {
   "cell_type": "code",
   "execution_count": 306,
   "id": "8b9fa3e1",
   "metadata": {},
   "outputs": [
    {
     "name": "stdout",
     "output_type": "stream",
     "text": [
      "The attack is successful\n"
     ]
    }
   ],
   "source": [
    "prediction = model.predict(X_n)\n",
    "#print(prediction)\n",
    "\n",
    "if (prediction[0] == 0):\n",
    "    print('The attack is not successful')\n",
    "else:\n",
    "    print('The attack is successful')"
   ]
  },
  {
   "cell_type": "code",
   "execution_count": null,
   "id": "20a3bfa2",
   "metadata": {},
   "outputs": [],
   "source": []
  },
  {
   "cell_type": "code",
   "execution_count": null,
   "id": "f846e29e",
   "metadata": {},
   "outputs": [],
   "source": []
  },
  {
   "cell_type": "code",
   "execution_count": null,
   "id": "be467a3f",
   "metadata": {},
   "outputs": [],
   "source": []
  },
  {
   "cell_type": "code",
   "execution_count": null,
   "id": "23b09511",
   "metadata": {},
   "outputs": [],
   "source": []
  },
  {
   "cell_type": "code",
   "execution_count": null,
   "id": "c3f2ce46",
   "metadata": {},
   "outputs": [],
   "source": []
  }
 ],
 "metadata": {
  "kernelspec": {
   "display_name": "Python 3 (ipykernel)",
   "language": "python",
   "name": "python3"
  },
  "language_info": {
   "codemirror_mode": {
    "name": "ipython",
    "version": 3
   },
   "file_extension": ".py",
   "mimetype": "text/x-python",
   "name": "python",
   "nbconvert_exporter": "python",
   "pygments_lexer": "ipython3",
   "version": "3.9.7"
  }
 },
 "nbformat": 4,
 "nbformat_minor": 5
}
